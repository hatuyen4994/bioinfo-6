{
 "cells": [
  {
   "cell_type": "markdown",
   "metadata": {},
   "source": [
    "# Trie Construction"
   ]
  },
  {
   "cell_type": "markdown",
   "metadata": {},
   "source": [
    "```Python\n",
    "TrieConstruction(Patterns)\n",
    "    Trie ← a graph consisting of a single node root\n",
    "    for each string Pattern in Patterns\n",
    "        currentNode ← root\n",
    "        for i ← 0 to |Pattern| - 1\n",
    "            currentSymbol ← Pattern[i]\n",
    "            if there is an outgoing edge from currentNode with label currentSymbol\n",
    "                currentNode ← ending node of this edge\n",
    "            else\n",
    "                add a new node newNode to Trie\n",
    "                add a new edge from currentNode to newNode with label currentSymbol\n",
    "                currentNode ← newNode\n",
    "    return Trie\n",
    "```"
   ]
  },
  {
   "cell_type": "code",
   "execution_count": 8,
   "metadata": {},
   "outputs": [],
   "source": [
    "def CreateTrie():\n",
    "    Trie = {\"Nodes\": [0],\n",
    "           \"OutNodes\": {0:[]},\n",
    "           \"OutEdges\": {0:[]}\n",
    "           }\n",
    "    return Trie\n",
    "def TrieConstruction(Patterns):\n",
    "    Trie = CreateTrie()\n",
    "    root = 0\n",
    "    for pattern in Patterns:\n",
    "        current_node = root\n",
    "        for i in range(0,len(pattern)):\n",
    "            current_symbol = pattern[i]\n",
    "            if current_symbol in Trie[\"OutEdges\"][current_node]:\n",
    "                end_node_idx = Trie[\"OutEdges\"][current_node].index(current_symbol)\n",
    "                current_node = Trie[\"OutNodes\"][current_node][end_node_idx]\n",
    "            else:\n",
    "                new_node = Trie[\"Nodes\"][-1] + 1\n",
    "                Trie[\"Nodes\"].append(new_node)\n",
    "                Trie[\"OutNodes\"][current_node].append(new_node)\n",
    "                Trie[\"OutNodes\"][new_node] = []\n",
    "                Trie[\"OutEdges\"][current_node].append(current_symbol)\n",
    "                Trie[\"OutEdges\"][new_node] = []\n",
    "                current_node = new_node \n",
    "    return Trie\n",
    "\n",
    "def Trie2Text (Trie):\n",
    "    Trie_as_text = []\n",
    "    for node in Trie[\"OutNodes\"]:\n",
    "        if Trie[\"OutNodes\"][node] != []:\n",
    "            for i,end_node in enumerate(Trie[\"OutNodes\"][node]):\n",
    "                edge = Trie[\"OutEdges\"][node][i]\n",
    "                in_edge_out = str(node) + \"->\" + str(end_node) + \":\" + edge\n",
    "                Trie_as_text.append(in_edge_out)\n",
    "    return Trie_as_text"
   ]
  },
  {
   "cell_type": "code",
   "execution_count": 9,
   "metadata": {
    "scrolled": false
   },
   "outputs": [
    {
     "name": "stdout",
     "output_type": "stream",
     "text": [
      "['ATAGA', 'ATC', 'GAT']\n"
     ]
    },
    {
     "data": {
      "text/plain": [
       "{'Nodes': [0, 1, 2, 3, 4, 5, 6, 7, 8, 9],\n",
       " 'OutNodes': {0: [1, 7],\n",
       "  1: [2],\n",
       "  2: [3, 6],\n",
       "  3: [4],\n",
       "  4: [5],\n",
       "  5: [],\n",
       "  6: [],\n",
       "  7: [8],\n",
       "  8: [9],\n",
       "  9: []},\n",
       " 'OutEdges': {0: ['A', 'G'],\n",
       "  1: ['T'],\n",
       "  2: ['A', 'C'],\n",
       "  3: ['G'],\n",
       "  4: ['A'],\n",
       "  5: [],\n",
       "  6: [],\n",
       "  7: ['A'],\n",
       "  8: ['T'],\n",
       "  9: []}}"
      ]
     },
     "execution_count": 9,
     "metadata": {},
     "output_type": "execute_result"
    }
   ],
   "source": [
    "ip = \"\"\"ATAGA\n",
    "ATC\n",
    "GAT\"\"\"\n",
    "patterns = ip.strip().split(\"\\n\")\n",
    "print(patterns[:3])\n",
    "Trie = TrieConstruction(patterns)\n",
    "Trie"
   ]
  },
  {
   "cell_type": "code",
   "execution_count": 39,
   "metadata": {
    "scrolled": true
   },
   "outputs": [
    {
     "name": "stdout",
     "output_type": "stream",
     "text": [
      "['TCGCGCCTCAAGCAGCTCTAGCTTAGCTGTCGGCATCAGTGAGAGCTGCCTACGCATTTGAGCCTCAGGTCACGTTATTGACCGTACGCC', 'ACTCACTTAGATGCTTAGGGCTACTATTAGGGAAACTGCCGCAGTTGGGGAGTAAGTTCACCCGGAGAGCCCACCACCCCCCGTCCACCCGTATAC', 'GGCTCATTCGGAGCTCGTTTAACACAGTATAACGAGGTCTCCGTACTCTAATACTCGCTCGTACGGCGGGACCGGTACGGTATCATCTCCG']\n"
     ]
    }
   ],
   "source": [
    "filename = \"dataset_294_4.txt\"\n",
    "with open (filename, \"r\") as ip:\n",
    "    patterns = [line.strip() for line in ip]\n",
    "print(patterns[:3])\n",
    "Trie = TrieConstruction(patterns)\n",
    "T_text = Trie2Text(Trie)\n",
    "\n",
    "f = open(f\"{filename}.out\", \"w\")\n",
    "for e in T_text:\n",
    "    f.write(e + \"\\n\")\n",
    "f.close()"
   ]
  },
  {
   "cell_type": "markdown",
   "metadata": {},
   "source": [
    "# Trie Matching"
   ]
  },
  {
   "cell_type": "markdown",
   "metadata": {},
   "source": [
    "```Python \n",
    "PrefixTrieMatching(Text, Trie)\n",
    "    symbol ← first letter of Text\n",
    "    v ← root of Trie\n",
    "    while forever\n",
    "        if v is a leaf in Trie\n",
    "            output the pattern spelled by the path from the root to v\n",
    "        else if there is an edge (v, w) in Trie labeled by symbol\n",
    "            symbol ← next letter of Text\n",
    "            v ← w\n",
    "        else\n",
    "            return \"no matches found\"\n",
    "        \n",
    "        \n",
    "TrieMatching(Text, Trie)\n",
    "    while Text is nonempty\n",
    "        PrefixTrieMatching(Text, Trie)\n",
    "        remove first symbol from Text\n",
    "```"
   ]
  },
  {
   "cell_type": "code",
   "execution_count": 52,
   "metadata": {},
   "outputs": [],
   "source": [
    "import copy\n",
    "\n",
    "def PrefixTrieMatching(Text, Trie):\n",
    "    Text = [s for s in Text]\n",
    "    symbol = Text.pop(0)\n",
    "    node_v = 0 \n",
    "    path = []\n",
    "    while True:\n",
    "        if Trie[\"OutNodes\"][node_v] == []:\n",
    "            return True, path\n",
    "        \n",
    "        elif symbol in Trie[\"OutEdges\"][node_v]:\n",
    "            path.append(symbol)\n",
    "            node_w_idx = Trie[\"OutEdges\"][node_v].index(symbol)\n",
    "            node_v = Trie[\"OutNodes\"][node_v][node_w_idx]\n",
    "            try :\n",
    "                symbol = Text.pop(0)\n",
    "            except:\n",
    "                if Trie[\"OutNodes\"][node_v] == []:\n",
    "                    return True, path\n",
    "            \n",
    "        else:\n",
    "            return False, \"No matches found\"\n",
    "        \n",
    "def TrieMatching(Text,Trie):\n",
    "    pos = []\n",
    "    i = 0\n",
    "    while Text != \"\":\n",
    "        Match = PrefixTrieMatching(Text,Trie)\n",
    "        if Match[0] == True:\n",
    "            pos.append(i)\n",
    "        Text = Text[1:]\n",
    "        i += 1\n",
    "    return pos"
   ]
  },
  {
   "cell_type": "code",
   "execution_count": 55,
   "metadata": {},
   "outputs": [
    {
     "name": "stdout",
     "output_type": "stream",
     "text": [
      "1 4 11 15 "
     ]
    }
   ],
   "source": [
    "Text = \"AATCGGGTTCAATCGGGGT\"\n",
    "patterns = [\"ATCG\",\"GGGT\"]\n",
    "Trie = TrieConstruction(patterns)\n",
    "Matches = TrieMatching(Text,Trie)\n",
    "for i in Matches:\n",
    "    print(i, end=\" \")"
   ]
  },
  {
   "cell_type": "code",
   "execution_count": null,
   "metadata": {},
   "outputs": [],
   "source": [
    "filename = \"dataset_294_4.txt\"\n",
    "with open (filename, \"r\") as ip:\n",
    "    patterns = [line.strip() for line in ip]\n",
    "Text = patterns[0]\n",
    "patterns = patterns[1:]\n",
    "Trie = TrieConstruction(patterns)\n",
    "Matches = TrieMatching(Text,Trie)\n",
    "f = open(f\"{filename}.out\", \"w\")\n",
    "for e in Matches:\n",
    "    f.write(e + \" \")\n",
    "f.close()"
   ]
  },
  {
   "cell_type": "code",
   "execution_count": null,
   "metadata": {},
   "outputs": [],
   "source": []
  }
 ],
 "metadata": {
  "kernelspec": {
   "display_name": "Python 3",
   "language": "python",
   "name": "python3"
  },
  "language_info": {
   "codemirror_mode": {
    "name": "ipython",
    "version": 3
   },
   "file_extension": ".py",
   "mimetype": "text/x-python",
   "name": "python",
   "nbconvert_exporter": "python",
   "pygments_lexer": "ipython3",
   "version": "3.7.4"
  }
 },
 "nbformat": 4,
 "nbformat_minor": 2
}
